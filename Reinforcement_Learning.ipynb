{
 "cells": [
  {
   "cell_type": "markdown",
   "metadata": {
    "deletable": true,
    "editable": true
   },
   "source": [
    "## CmpE 545 - Reinforcement Learning\n",
    "Gönül AYCI - 2016800003"
   ]
  },
  {
   "cell_type": "code",
   "execution_count": 1,
   "metadata": {
    "collapsed": true,
    "deletable": true,
    "editable": true
   },
   "outputs": [],
   "source": [
    "import numpy as np"
   ]
  },
  {
   "cell_type": "markdown",
   "metadata": {},
   "source": [
    "## Initialization"
   ]
  },
  {
   "cell_type": "code",
   "execution_count": 2,
   "metadata": {
    "collapsed": false,
    "deletable": true,
    "editable": true
   },
   "outputs": [],
   "source": [
    "gamma = 0.9\n",
    "epsilon = 1\n",
    "epsilon_update = .98\n",
    "\n",
    "nEpisodes = 35\n",
    "\n",
    "nRows = 8\n",
    "nCols = 8\n",
    "\n",
    "nDirections = 4\n",
    "actions = ['N', 'E', 'S', 'W']\n",
    "\n",
    "goal = [6,5] # goal state\n",
    "r[6][5] = 100\n",
    "\n",
    "r = np.zeros((nRows, nCols))\n",
    "Q = np.zeros((nRows, nCols, nDirections))\n",
    "\n",
    "# eta is the history matrix\n",
    "number = np.ones((nRows, nCols, nDirections))\n",
    "eta = np.ones((nRows, nCols, nDirections))\n",
    "#eta = 0.2"
   ]
  },
  {
   "cell_type": "markdown",
   "metadata": {
    "deletable": true,
    "editable": true
   },
   "source": [
    "## Deterministic Case"
   ]
  },
  {
   "cell_type": "code",
   "execution_count": 3,
   "metadata": {
    "collapsed": false,
    "deletable": true,
    "editable": true
   },
   "outputs": [],
   "source": [
    "# this function helps to move to the next state\n",
    "def state_moves(s):\n",
    "    moves = [[0,1], [1,0], [0, -1], [-1, 0]]\n",
    "    moves\n",
    "\n",
    "    if(s[0] == 0):\n",
    "        moves[3] = [0,0]\n",
    "    if(s[0] == nCols-1):\n",
    "        moves[1] = [0,0]\n",
    "    if(s[1] == 0):\n",
    "        moves[2] = [0,0]\n",
    "    if(s[1] == nRows-1):\n",
    "        moves[0] = [0,0]\n",
    "    return moves"
   ]
  },
  {
   "cell_type": "code",
   "execution_count": 4,
   "metadata": {
    "collapsed": false,
    "deletable": true,
    "editable": true
   },
   "outputs": [],
   "source": [
    "for e in range(nEpisodes):\n",
    "    # initialize the start state\n",
    "    s = [1,1]\n",
    "    \n",
    "    while((s[0] != goal[0]) or (s[1] != goal[1])):\n",
    "        # apply epsilon-greedy to take an action a\n",
    "        epsilon_rand = np.random.rand()\n",
    "        # best action\n",
    "        if(epsilon_rand > epsilon):\n",
    "            a = np.argmax(Q[s[0]][s[1]][:])\n",
    "        # uniform\n",
    "        else:\n",
    "            a = np.random.randint(nDirections)\n",
    "        \n",
    "        # initialize a next state\n",
    "        moves = state_moves(s)\n",
    "        s_next = [sum(x) for x in zip(s, moves[a])]\n",
    "\n",
    "        # apply an update rule\n",
    "        dQ = r[s_next[0]][s_next[1]] + gamma * np.max(Q[s_next[0]][s_next[1]])\n",
    "        Q[s[0]][s[1]][a] = dQ\n",
    "        \n",
    "        s = s_next\n",
    "        \n",
    "    epsilon *= epsilon_update"
   ]
  },
  {
   "cell_type": "markdown",
   "metadata": {},
   "source": [
    "## The best actions"
   ]
  },
  {
   "cell_type": "code",
   "execution_count": 5,
   "metadata": {
    "collapsed": false,
    "deletable": true,
    "editable": true
   },
   "outputs": [
    {
     "data": {
      "text/plain": [
       "array([[  34.9,   38.7,   43. ,   47.8,   43. ,   47.8,   53.1,   47.8],\n",
       "       [  38.7,   43. ,   47.8,   53.1,   59. ,   65.6,   59. ,   53.1],\n",
       "       [  43. ,   47.8,   53.1,   59. ,   65.6,   72.9,   65.6,   59. ],\n",
       "       [  47.8,   53.1,   59. ,   65.6,   72.9,   81. ,   72.9,   65.6],\n",
       "       [  53.1,   59. ,   65.6,   72.9,   81. ,   90. ,   81. ,   72.9],\n",
       "       [  59. ,   65.6,   72.9,   81. ,   90. ,  100. ,   90. ,   81. ],\n",
       "       [  53.1,   72.9,   81. ,   90. ,  100. ,    0. ,  100. ,   90. ],\n",
       "       [   0. ,   65.6,   72.9,   81. ,   90. ,  100. ,   90. ,   81. ]])"
      ]
     },
     "execution_count": 5,
     "metadata": {},
     "output_type": "execute_result"
    }
   ],
   "source": [
    "np.max(np.around(Q, decimals=1), axis = 2)"
   ]
  },
  {
   "cell_type": "markdown",
   "metadata": {},
   "source": [
    "## All actions"
   ]
  },
  {
   "cell_type": "code",
   "execution_count": 6,
   "metadata": {
    "collapsed": false,
    "deletable": true,
    "editable": true
   },
   "outputs": [
    {
     "data": {
      "text/plain": [
       "array([[[  34.9,    0. ,    0. ,    0. ],\n",
       "        [  38.7,   38.7,    0. ,    0. ],\n",
       "        [  43. ,   43. ,   34.9,    0. ],\n",
       "        [  38.7,   47.8,   38.7,   43. ],\n",
       "        [  43. ,    0. ,   43. ,    0. ],\n",
       "        [  47.8,    0. ,    0. ,   43. ],\n",
       "        [  43. ,   53.1,   43. ,   47.8],\n",
       "        [   0. ,   47.8,   38.7,   43. ]],\n",
       "\n",
       "       [[  38.7,   38.7,   34.9,    0. ],\n",
       "        [  43. ,   43. ,   34.9,   34.9],\n",
       "        [  47.8,   47.8,   38.7,   38.7],\n",
       "        [  53.1,   53.1,   43. ,   43. ],\n",
       "        [  59. ,    0. ,    0. ,    0. ],\n",
       "        [  53.1,   65.6,    0. ,    0. ],\n",
       "        [  47.8,   59. ,    0. ,   47.8],\n",
       "        [  47.8,   53.1,   53.1,   43. ]],\n",
       "\n",
       "       [[   0. ,   43. ,   38.7,    0. ],\n",
       "        [  47.8,   47.8,   38.7,    0. ],\n",
       "        [  53.1,   53.1,   43. ,   43. ],\n",
       "        [  59. ,   59. ,   47.8,   47.8],\n",
       "        [  65.6,   65.6,   53.1,   43. ],\n",
       "        [  59. ,   72.9,   59. ,   59. ],\n",
       "        [  53.1,   65.6,   65.6,   53.1],\n",
       "        [  53.1,   59. ,   59. ,   47.8]],\n",
       "\n",
       "       [[  47.8,   47.8,   43. ,   38.7],\n",
       "        [  53.1,   53.1,   43. ,   43. ],\n",
       "        [  59. ,   59. ,   47.8,   47.8],\n",
       "        [  65.6,   65.6,   53.1,   53.1],\n",
       "        [  72.9,   72.9,   59. ,   59. ],\n",
       "        [  65.6,   81. ,   65.6,   65.6],\n",
       "        [  59. ,   72.9,   72.9,   59. ],\n",
       "        [  59. ,   65.6,   65.6,   53.1]],\n",
       "\n",
       "       [[  53.1,    0. ,    0. ,   43. ],\n",
       "        [   0. ,   59. ,   47.8,   47.8],\n",
       "        [  65.6,   65.6,   53.1,    0. ],\n",
       "        [  72.9,   72.9,   59. ,   59. ],\n",
       "        [  81. ,   81. ,   65.6,   65.6],\n",
       "        [  72.9,   90. ,   72.9,   72.9],\n",
       "        [  65.6,   81. ,   81. ,   65.6],\n",
       "        [  65.6,   72.9,   72.9,   59. ]],\n",
       "\n",
       "       [[  59. ,   47.8,   43. ,   47.8],\n",
       "        [  65.6,    0. ,   53.1,   53.1],\n",
       "        [  72.9,   72.9,   59. ,   59. ],\n",
       "        [  81. ,   81. ,   65.6,   65.6],\n",
       "        [  90. ,   90. ,   72.9,   72.9],\n",
       "        [  81. ,  100. ,   81. ,   81. ],\n",
       "        [  72.9,   90. ,   90. ,   72.9],\n",
       "        [   0. ,   81. ,   81. ,   65.6]],\n",
       "\n",
       "       [[  53.1,    0. ,    0. ,    0. ],\n",
       "        [  72.9,    0. ,    0. ,   59. ],\n",
       "        [  81. ,   65.6,    0. ,   65.6],\n",
       "        [  90. ,   72.9,   72.9,   72.9],\n",
       "        [ 100. ,   81. ,   81. ,   81. ],\n",
       "        [   0. ,    0. ,    0. ,    0. ],\n",
       "        [  81. ,   81. ,  100. ,   81. ],\n",
       "        [  81. ,    0. ,   90. ,    0. ]],\n",
       "\n",
       "       [[   0. ,    0. ,    0. ,    0. ],\n",
       "        [  65.6,    0. ,    0. ,    0. ],\n",
       "        [  72.9,   65.6,    0. ,   72.9],\n",
       "        [  81. ,   72.9,   65.6,   81. ],\n",
       "        [  90. ,   81. ,    0. ,   90. ],\n",
       "        [  81. ,    0. ,   81. ,  100. ],\n",
       "        [  72.9,   81. ,   90. ,   90. ],\n",
       "        [   0. ,    0. ,   81. ,   81. ]]])"
      ]
     },
     "execution_count": 6,
     "metadata": {},
     "output_type": "execute_result"
    }
   ],
   "source": [
    "np.around(Q, decimals=1)"
   ]
  },
  {
   "cell_type": "markdown",
   "metadata": {
    "deletable": true,
    "editable": true
   },
   "source": [
    "## Nondeterministic Case (SARSA)"
   ]
  },
  {
   "cell_type": "code",
   "execution_count": 11,
   "metadata": {
    "collapsed": true
   },
   "outputs": [],
   "source": [
    "prime_rand = np.random.rand()\n",
    "prime_rand2 = np.random.rand()\n",
    "\n",
    "def action_next(a):\n",
    "    if(prime_rand > .5):\n",
    "        if(prime_rand2 > .5):\n",
    "            a_prime = ((a-2) % nDirections)\n",
    "        else:\n",
    "            a_prime = (a % nDirections)\n",
    "    return a_prime"
   ]
  },
  {
   "cell_type": "code",
   "execution_count": 12,
   "metadata": {
    "collapsed": false,
    "deletable": true,
    "editable": true
   },
   "outputs": [],
   "source": [
    "for e in range(nEpisodes):\n",
    "    s = [1,1]\n",
    "    \n",
    "    while((s[0] != goal[0]) or (s[1] != goal[1])):\n",
    "        epsilon_rand = np.random.rand()\n",
    "        # best action\n",
    "        if(epsilon_rand > epsilon):\n",
    "            a = np.argmax(Q[s[0]][s[1]][:])\n",
    "        # uniform\n",
    "        else:\n",
    "            a = np.random.randint(nDirections)\n",
    "            \n",
    "        a_next = action_next(a)\n",
    "        moves = state_moves(s)\n",
    "        s_next = [sum(x) for x in zip(s, moves[a_next])]\n",
    "        dQ = eta[s[0]][s[1]][a] * \n",
    "                    (r[s_next[0]][s_next[1]] + gamma * \n",
    "                                 Q[s_next[0]][s_next[1]][a_next] - Q[s[0]][s[1]][a])\n",
    "        #dQ = eta * (r[s_next[0]][s_next[1]] + gamma * \n",
    "                            # Q[s_next[0]][s_next[1]][a_next] - Q[s[0]][s[1]][a])\n",
    "\n",
    "        Q[s[0]][s[1]][a] += dQ\n",
    "        \n",
    "        if(dQ != 0):\n",
    "            number[s[0]][s[1]][a] +=1\n",
    "            eta[s[0]][s[1]][a] = 1 / number[s[0]][s[1]][a]\n",
    "            \n",
    "        s = s_next\n",
    "        a = a_next \n",
    "        \n",
    "    epsilon *= epsilon_update"
   ]
  },
  {
   "cell_type": "markdown",
   "metadata": {},
   "source": [
    "## The best actions"
   ]
  },
  {
   "cell_type": "code",
   "execution_count": 13,
   "metadata": {
    "collapsed": false
   },
   "outputs": [
    {
     "data": {
      "text/plain": [
       "array([[  34.9,   38.7,   34.9,   38.7,   44.3,   38.7,   53.1,   47.8],\n",
       "       [  38.7,   34.9,   38.7,   43. ,   48.6,   65.6,   59. ,   53.1],\n",
       "       [  43. ,   38.3,   43. ,   47.8,   53.1,   72.9,   65.6,   59. ],\n",
       "       [  47.8,   43. ,   47.8,   53.1,   59. ,   81. ,   59. ,   65.6],\n",
       "       [  43. ,   53.4,   53.1,   59. ,   65.6,   90. ,   65.6,   72.9],\n",
       "       [  59. ,   65.6,   59. ,   65.6,   72.9,  100. ,   72.9,   65.6],\n",
       "       [  53.1,   72.9,   81. ,   90. ,  100. ,    0. ,  100. ,   90. ],\n",
       "       [   0. ,   65.6,   72.9,   81. ,   90. ,  100. ,   90. ,   81. ]])"
      ]
     },
     "execution_count": 13,
     "metadata": {},
     "output_type": "execute_result"
    }
   ],
   "source": [
    "np.max(np.around(Q, decimals=1), axis = 2)"
   ]
  },
  {
   "cell_type": "markdown",
   "metadata": {},
   "source": [
    "## All actions"
   ]
  },
  {
   "cell_type": "code",
   "execution_count": 14,
   "metadata": {
    "collapsed": false
   },
   "outputs": [
    {
     "data": {
      "text/plain": [
       "array([[[  28.2,   34.9,    0. ,    0. ],\n",
       "        [  31.4,   38.7,    0. ,    0. ],\n",
       "        [  31.6,   34.9,    0. ,    0. ],\n",
       "        [  31.4,   38.7,   15.7,   36.8],\n",
       "        [  34.9,   44.3,   43. ,    0. ],\n",
       "        [  38.7,    0. ,   38.7,   38.7],\n",
       "        [  43. ,   53.1,   43. ,   47.8],\n",
       "        [   0. ,   47.8,   38.7,   43. ]],\n",
       "\n",
       "       [[  31.4,   38.7,   34.9,    0. ],\n",
       "        [  34.9,    0. ,   31.4,    0. ],\n",
       "        [  38.7,   38.7,   31.4,    0. ],\n",
       "        [  43. ,   43. ,   28.2,   36.8],\n",
       "        [  47.8,   48.6,   25.4,    0. ],\n",
       "        [  53.1,   65.6,    0. ,   34.9],\n",
       "        [  43. ,   59. ,    0. ,   47.8],\n",
       "        [  47.8,   53.1,   53.1,   43. ]],\n",
       "\n",
       "       [[  34.9,   43. ,   38.7,    0. ],\n",
       "        [  38.3,    0. ,   34.9,    0. ],\n",
       "        [  42. ,   43. ,   33.1,    0. ],\n",
       "        [  45.6,   47.8,   38.7,   34. ],\n",
       "        [  48.1,   53.1,   34.9,    0. ],\n",
       "        [  47.8,   72.9,   59. ,    0. ],\n",
       "        [  53.1,   65.6,   65.6,   53.1],\n",
       "        [  53.1,   59. ,   59. ,   47.8]],\n",
       "\n",
       "       [[  38.7,   47.8,   43. ,   38.7],\n",
       "        [  42.3,    0. ,   43. ,   43. ],\n",
       "        [  46.1,   47.8,   38.7,    0. ],\n",
       "        [  49.2,   53.1,   53.1,   35.3],\n",
       "        [  50.1,   59. ,   47.8,   38.7],\n",
       "        [  53.1,   81. ,   65.6,   26.6],\n",
       "        [  59. ,   59. ,   59. ,   59. ],\n",
       "        [  59. ,   65.6,   65.6,   53.1]],\n",
       "\n",
       "       [[   0. ,    0. ,    0. ,   43. ],\n",
       "        [  53.4,    0. ,    0. ,   47.8],\n",
       "        [  53.1,   53.1,    0. ,   43. ],\n",
       "        [  59. ,   59. ,   23.9,   33.5],\n",
       "        [  65.6,   65.6,   39.2,   39.4],\n",
       "        [  72.9,   90. ,   48.4,   28.7],\n",
       "        [  59. ,   65.6,   59.4,   65.6],\n",
       "        [  65.6,    0. ,   72.9,   47.8]],\n",
       "\n",
       "       [[  59. ,   47.8,   43. ,   47.8],\n",
       "        [  65.6,    0. ,   53.1,   53.1],\n",
       "        [  59. ,   59. ,   59. ,   59. ],\n",
       "        [  62.5,   65.6,   53.1,   53.1],\n",
       "        [  66. ,   72.9,   72.9,   72.9],\n",
       "        [  65.6,  100. ,   81. ,   35. ],\n",
       "        [   0. ,   72.9,   72.9,   72.9],\n",
       "        [   0. ,    0. ,   65.6,   65.6]],\n",
       "\n",
       "       [[  53.1,    0. ,    0. ,    0. ],\n",
       "        [  72.9,    0. ,    0. ,   59. ],\n",
       "        [  81. ,   65.6,    0. ,   53.1],\n",
       "        [  90. ,   65.6,   72.9,   72.9],\n",
       "        [ 100. ,   81. ,   81. ,   81. ],\n",
       "        [   0. ,    0. ,    0. ,    0. ],\n",
       "        [  81. ,   81. ,  100. ,   65.6],\n",
       "        [  81. ,    0. ,   90. ,    0. ]],\n",
       "\n",
       "       [[   0. ,    0. ,    0. ,    0. ],\n",
       "        [  65.6,    0. ,    0. ,    0. ],\n",
       "        [  72.9,   65.6,    0. ,   72.9],\n",
       "        [  81. ,   72.9,   65.6,   81. ],\n",
       "        [  72.9,   81. ,    0. ,   90. ],\n",
       "        [  81. ,    0. ,   81. ,  100. ],\n",
       "        [  72.9,   81. ,   90. ,   90. ],\n",
       "        [   0. ,    0. ,   81. ,   81. ]]])"
      ]
     },
     "execution_count": 14,
     "metadata": {},
     "output_type": "execute_result"
    }
   ],
   "source": [
    "np.around(Q, decimals=1)"
   ]
  }
 ],
 "metadata": {
  "kernelspec": {
   "display_name": "Python 3",
   "language": "python",
   "name": "python3"
  },
  "language_info": {
   "codemirror_mode": {
    "name": "ipython",
    "version": 3
   },
   "file_extension": ".py",
   "mimetype": "text/x-python",
   "name": "python",
   "nbconvert_exporter": "python",
   "pygments_lexer": "ipython3",
   "version": "3.6.0"
  }
 },
 "nbformat": 4,
 "nbformat_minor": 2
}
