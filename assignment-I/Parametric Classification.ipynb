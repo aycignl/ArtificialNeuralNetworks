{
 "cells": [
  {
   "cell_type": "markdown",
   "metadata": {},
   "source": [
    "### Parametric Classification\n",
    "* **Name Surname, email:** Gonul Aycı, aycignl@gmail.com\n",
    "* **Location, Date:** Bogazici University, Mar. 2018\n",
    "* **Description:** Assignment-I\n",
    "    - Estimate class priors, means and variances using the training data.\n",
    "    - Plot *training data*, estimated likelihoods and posteriors together on the same plot. Use different symbols for different classes. \n",
    "    - Use your estimated discriminants to classify the test data and report the confusion matrix on the *test data*.\n"
   ]
  },
  {
   "cell_type": "code",
   "execution_count": 1,
   "metadata": {
    "collapsed": true,
    "deletable": true,
    "editable": true
   },
   "outputs": [],
   "source": [
    "import numpy as np\n",
    "import matplotlib.pyplot as plt\n",
    "import matplotlib.mlab as mlab\n",
    "import math\n",
    "import itertools"
   ]
  },
  {
   "cell_type": "code",
   "execution_count": 2,
   "metadata": {
    "collapsed": true,
    "deletable": true,
    "editable": true
   },
   "outputs": [],
   "source": [
    "test_data = \"h_tes.txt\"\n",
    "train_data = \"h_tra.txt\"\n",
    "\n",
    "test_lines = [line.rstrip('\\n') for line in open(test_data)]\n",
    "train_lines = [line.rstrip('\\n') for line in open(train_data)]"
   ]
  },
  {
   "cell_type": "code",
   "execution_count": 3,
   "metadata": {
    "collapsed": false,
    "deletable": true,
    "editable": true
   },
   "outputs": [],
   "source": [
    "test_list = [[float(i) for i in index1.split()] for index1 in test_lines]\n",
    "test_list = np.asarray(test_list)\n",
    "train_list = [[float(j) for j in index2.split()] for index2 in train_lines]\n",
    "train_list = np.asarray(train_list)\n",
    "train_class_one = [a[1] for a in train_list]\n",
    "train_class_two = [b[2] for b in train_list]"
   ]
  },
  {
   "cell_type": "code",
   "execution_count": 4,
   "metadata": {
    "collapsed": true,
    "deletable": true,
    "editable": true
   },
   "outputs": [],
   "source": [
    "total = len(train_class_one)\n",
    "count1 = sum([1 for i in range(total) if train_class_one[i] == 1])\n",
    "count2 = sum([1 for i in range(total) if train_class_two[i] == 1])"
   ]
  },
  {
   "cell_type": "code",
   "execution_count": 5,
   "metadata": {
    "collapsed": false,
    "deletable": true,
    "editable": true
   },
   "outputs": [],
   "source": [
    "train_class_1 = [a[0] for a in train_list[train_list[:,1] == 1.0]]\n",
    "train_class_2 = [b[0] for b in train_list[train_list[:,2] == 1.0]]"
   ]
  },
  {
   "cell_type": "markdown",
   "metadata": {
    "deletable": true,
    "editable": true
   },
   "source": [
    "#### i. Estimate class priors, means and variances using the training data."
   ]
  },
  {
   "cell_type": "code",
   "execution_count": 6,
   "metadata": {
    "collapsed": false,
    "deletable": true,
    "editable": true
   },
   "outputs": [],
   "source": [
    "mean_1 = np.mean(train_class_1)\n",
    "mean_2 = np.mean(train_class_2)\n",
    "variance_1 = np.var(train_class_1)\n",
    "variance_2 = np.var(train_class_2)\n",
    "prior_1 = np.divide(count1, total)\n",
    "prior_2 = np.divide(count2, total)"
   ]
  },
  {
   "cell_type": "code",
   "execution_count": 7,
   "metadata": {
    "collapsed": false,
    "deletable": true,
    "editable": true
   },
   "outputs": [],
   "source": [
    "def likelihood_1(x1): \n",
    "    return 1/(sigma_1 * np.sqrt(2 * np.pi)) * np.exp( - (x1 - mean_1)**2 / (2 * sigma_1**2)) \n",
    "\n",
    "def likelihood_2(x2):\n",
    "    return 1/(sigma_2 * np.sqrt(2 * np.pi)) * np.exp( - (x2 - mean_2)**2 / (2 * sigma_2**2)) \n",
    "\n",
    "def posterior_1(x1):\n",
    "    return (prior_1 * likelihood_1(x1)) / (prior_1 * likelihood_1(x1) + prior_2 * likelihood_2(x1))\n",
    "                                                     \n",
    "def posterior_2(x2):\n",
    "    return (prior_2 * likelihood_2(x2)) / (prior_1 * likelihood_1(x2) + prior_2 * likelihood_2(x2))                                       "
   ]
  },
  {
   "cell_type": "markdown",
   "metadata": {
    "deletable": true,
    "editable": true
   },
   "source": [
    "#### ii. Plot *training data*, estimated likelihoods and posteriors together on the same plot. Use different symbols for different classes."
   ]
  },
  {
   "cell_type": "code",
   "execution_count": 8,
   "metadata": {
    "collapsed": false,
    "deletable": true,
    "editable": true
   },
   "outputs": [
    {
     "data": {
      "image/png": "[encoded data removed]",
      "text/plain": [
       "<matplotlib.figure.Figure at 0x105e505c0>"
      ]
     },
     "metadata": {},
     "output_type": "display_data"
    }
   ],
   "source": [
    "plt.figure(figsize=(7,8))\n",
    "\n",
    "sigma_1 = math.sqrt(variance_1)\n",
    "sigma_2 = math.sqrt(variance_2)\n",
    "\n",
    "x_c1 = np.linspace(mean_1 - 3*sigma_1, mean_1 + 3*sigma_1, 100)\n",
    "x_c2 = np.linspace(mean_2 - 3*sigma_2, mean_2 + 3*sigma_2, 100)\n",
    "\n",
    "plt.plot(x_c1,likelihood_1(x_c1), color='darkgreen', label = 'likelihood_class_1')\n",
    "plt.plot(x_c2,likelihood_2(x_c2), color='darkblue', label = 'likelihood_class_2')\n",
    "plt.plot(x_c1,posterior_1(x_c1), color='green', linestyle = '--', label = 'posterior_class_1')\n",
    "plt.plot(x_c2,posterior_2(x_c2), color='blue', linestyle = ':', label = 'posterior_class_2')\n",
    "plt.legend()\n",
    "plt.show()"
   ]
  },
  {
   "cell_type": "markdown",
   "metadata": {
    "deletable": true,
    "editable": true
   },
   "source": [
    "#### iii. Use your estimated discriminants to classify the test data and report the confusion matrix on the *test data*."
   ]
  },
  {
   "cell_type": "code",
   "execution_count": 9,
   "metadata": {
    "collapsed": false,
    "deletable": true,
    "editable": true
   },
   "outputs": [],
   "source": [
    "# create a confusion matrix\n",
    "confusion_matrix = [[0 for x in range(2)] for y in range(2)]  \n",
    "\n",
    "for row in test_list:\n",
    "    if row[1] == 1.0:\n",
    "        if posterior_1(row[0]) < .5:\n",
    "            confusion_matrix[0][1] += 1 \n",
    "        else:\n",
    "            confusion_matrix[0][0] += 1\n",
    "    else:\n",
    "        if posterior_2(row[0]) >= .5:\n",
    "            confusion_matrix[1][1] += 1 \n",
    "        else:\n",
    "            confusion_matrix[1][0] += 1"
   ]
  },
  {
   "cell_type": "code",
   "execution_count": 10,
   "metadata": {
    "collapsed": false,
    "deletable": true,
    "editable": true
   },
   "outputs": [],
   "source": [
    "confusion_matrix = np.asarray(confusion_matrix)"
   ]
  },
  {
   "cell_type": "code",
   "execution_count": 11,
   "metadata": {
    "collapsed": false,
    "deletable": true,
    "editable": true
   },
   "outputs": [
    {
     "data": {
      "image/png": "[encoded data removed]",
      "text/plain": [
       "<matplotlib.figure.Figure at 0x105e492b0>"
      ]
     },
     "metadata": {},
     "output_type": "display_data"
    }
   ],
   "source": [
    "def plot_confusion_matrix(cm, classes,\n",
    "                          normalize=False,\n",
    "                          title='Confusion matrix',\n",
    "                          cmap=plt.cm.Blues):\n",
    " \n",
    "    if normalize:\n",
    "        cm = cm.astype('float') / cm.sum(axis=1)[:, np.newaxis]\n",
    "        #print(\"Normalized confusion matrix\")\n",
    "    else:\n",
    "        print('Confusion matrix, without normalization')\n",
    "\n",
    "\n",
    "    plt.imshow(cm, interpolation='nearest', cmap=cmap)\n",
    "    plt.title(title)\n",
    "    plt.colorbar()\n",
    "    tick_marks = np.arange(len(classes))\n",
    "    plt.xticks(tick_marks, classes, rotation=45)\n",
    "    plt.yticks(tick_marks, classes)\n",
    "\n",
    "    fmt = '.2f' if normalize else 'd'\n",
    "    thresh = cm.max() / 2.\n",
    "    for i, j in itertools.product(range(cm.shape[0]), range(cm.shape[1])):\n",
    "        plt.text(j, i, format(cm[i, j], fmt),\n",
    "                 horizontalalignment=\"center\",\n",
    "                 color=\"white\" if cm[i, j] > thresh else \"black\")\n",
    "\n",
    "    plt.tight_layout()\n",
    "    plt.ylabel('True label')\n",
    "    plt.xlabel('Predicted label')\n",
    "\n",
    "# Plot normalized confusion matrix\n",
    "plt.figure()\n",
    "plot_confusion_matrix(confusion_matrix, classes=['1', '2'], normalize=True,\n",
    "                      title='Normalized confusion matrix')\n",
    "\n",
    "plt.show()"
   ]
  }
 ],
 "metadata": {
  "kernelspec": {
   "display_name": "Python 3",
   "language": "python",
   "name": "python3"
  },
  "language_info": {
   "codemirror_mode": {
    "name": "ipython",
    "version": 3
   },
   "file_extension": ".py",
   "mimetype": "text/x-python",
   "name": "python",
   "nbconvert_exporter": "python",
   "pygments_lexer": "ipython3",
   "version": "3.6.0"
  }
 },
 "nbformat": 4,
 "nbformat_minor": 2
}
